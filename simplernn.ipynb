{
 "cells": [
  {
   "cell_type": "markdown",
   "id": "fd9900e5",
   "metadata": {},
   "source": [
    "## End to end Deep Learning Project using Simple RNN"
   ]
  },
  {
   "cell_type": "code",
   "execution_count": 14,
   "id": "2a419cb0",
   "metadata": {},
   "outputs": [],
   "source": [
    "import numpy as np\n",
    "import tensorflow as tf\n",
    "from tensorflow.keras.datasets import imdb\n",
    "from tensorflow.keras.preprocessing import sequence\n",
    "from tensorflow.keras.models import Sequential\n",
    "from tensorflow.keras.layers import Embedding,SimpleRNN,Dense"
   ]
  },
  {
   "cell_type": "code",
   "execution_count": 15,
   "id": "8da046f8",
   "metadata": {},
   "outputs": [
    {
     "name": "stdout",
     "output_type": "stream",
     "text": [
      "Training data shape: (25000,), Training labels shape: (25000,)\n",
      "Testing data shape: (25000,), Testing labels shape: (25000,)\n"
     ]
    }
   ],
   "source": [
    "## Load the IMDB dataset\n",
    "max_features=10000 # vocabulary size\n",
    "(X_train,y_train),(X_test,y_test)=imdb.load_data(num_words=max_features)\n",
    "\n",
    "#Print the shape of the data\n",
    "print(f'Training data shape: {X_train.shape}, Training labels shape: {y_train.shape}')\n",
    "print(f'Testing data shape: {X_test.shape}, Testing labels shape: {y_test.shape}')"
   ]
  },
  {
   "cell_type": "markdown",
   "id": "c5dbf0d6",
   "metadata": {},
   "source": [
    "### Inspect IMDB Reviews"
   ]
  },
  {
   "cell_type": "code",
   "execution_count": 16,
   "id": "ada8ab1d",
   "metadata": {},
   "outputs": [
    {
     "data": {
      "text/plain": [
       "([1,\n",
       "  14,\n",
       "  22,\n",
       "  16,\n",
       "  43,\n",
       "  530,\n",
       "  973,\n",
       "  1622,\n",
       "  1385,\n",
       "  65,\n",
       "  458,\n",
       "  4468,\n",
       "  66,\n",
       "  3941,\n",
       "  4,\n",
       "  173,\n",
       "  36,\n",
       "  256,\n",
       "  5,\n",
       "  25,\n",
       "  100,\n",
       "  43,\n",
       "  838,\n",
       "  112,\n",
       "  50,\n",
       "  670,\n",
       "  2,\n",
       "  9,\n",
       "  35,\n",
       "  480,\n",
       "  284,\n",
       "  5,\n",
       "  150,\n",
       "  4,\n",
       "  172,\n",
       "  112,\n",
       "  167,\n",
       "  2,\n",
       "  336,\n",
       "  385,\n",
       "  39,\n",
       "  4,\n",
       "  172,\n",
       "  4536,\n",
       "  1111,\n",
       "  17,\n",
       "  546,\n",
       "  38,\n",
       "  13,\n",
       "  447,\n",
       "  4,\n",
       "  192,\n",
       "  50,\n",
       "  16,\n",
       "  6,\n",
       "  147,\n",
       "  2025,\n",
       "  19,\n",
       "  14,\n",
       "  22,\n",
       "  4,\n",
       "  1920,\n",
       "  4613,\n",
       "  469,\n",
       "  4,\n",
       "  22,\n",
       "  71,\n",
       "  87,\n",
       "  12,\n",
       "  16,\n",
       "  43,\n",
       "  530,\n",
       "  38,\n",
       "  76,\n",
       "  15,\n",
       "  13,\n",
       "  1247,\n",
       "  4,\n",
       "  22,\n",
       "  17,\n",
       "  515,\n",
       "  17,\n",
       "  12,\n",
       "  16,\n",
       "  626,\n",
       "  18,\n",
       "  2,\n",
       "  5,\n",
       "  62,\n",
       "  386,\n",
       "  12,\n",
       "  8,\n",
       "  316,\n",
       "  8,\n",
       "  106,\n",
       "  5,\n",
       "  4,\n",
       "  2223,\n",
       "  5244,\n",
       "  16,\n",
       "  480,\n",
       "  66,\n",
       "  3785,\n",
       "  33,\n",
       "  4,\n",
       "  130,\n",
       "  12,\n",
       "  16,\n",
       "  38,\n",
       "  619,\n",
       "  5,\n",
       "  25,\n",
       "  124,\n",
       "  51,\n",
       "  36,\n",
       "  135,\n",
       "  48,\n",
       "  25,\n",
       "  1415,\n",
       "  33,\n",
       "  6,\n",
       "  22,\n",
       "  12,\n",
       "  215,\n",
       "  28,\n",
       "  77,\n",
       "  52,\n",
       "  5,\n",
       "  14,\n",
       "  407,\n",
       "  16,\n",
       "  82,\n",
       "  2,\n",
       "  8,\n",
       "  4,\n",
       "  107,\n",
       "  117,\n",
       "  5952,\n",
       "  15,\n",
       "  256,\n",
       "  4,\n",
       "  2,\n",
       "  7,\n",
       "  3766,\n",
       "  5,\n",
       "  723,\n",
       "  36,\n",
       "  71,\n",
       "  43,\n",
       "  530,\n",
       "  476,\n",
       "  26,\n",
       "  400,\n",
       "  317,\n",
       "  46,\n",
       "  7,\n",
       "  4,\n",
       "  2,\n",
       "  1029,\n",
       "  13,\n",
       "  104,\n",
       "  88,\n",
       "  4,\n",
       "  381,\n",
       "  15,\n",
       "  297,\n",
       "  98,\n",
       "  32,\n",
       "  2071,\n",
       "  56,\n",
       "  26,\n",
       "  141,\n",
       "  6,\n",
       "  194,\n",
       "  7486,\n",
       "  18,\n",
       "  4,\n",
       "  226,\n",
       "  22,\n",
       "  21,\n",
       "  134,\n",
       "  476,\n",
       "  26,\n",
       "  480,\n",
       "  5,\n",
       "  144,\n",
       "  30,\n",
       "  5535,\n",
       "  18,\n",
       "  51,\n",
       "  36,\n",
       "  28,\n",
       "  224,\n",
       "  92,\n",
       "  25,\n",
       "  104,\n",
       "  4,\n",
       "  226,\n",
       "  65,\n",
       "  16,\n",
       "  38,\n",
       "  1334,\n",
       "  88,\n",
       "  12,\n",
       "  16,\n",
       "  283,\n",
       "  5,\n",
       "  16,\n",
       "  4472,\n",
       "  113,\n",
       "  103,\n",
       "  32,\n",
       "  15,\n",
       "  16,\n",
       "  5345,\n",
       "  19,\n",
       "  178,\n",
       "  32],\n",
       " 1)"
      ]
     },
     "execution_count": 16,
     "metadata": {},
     "output_type": "execute_result"
    }
   ],
   "source": [
    "X_train[0],y_train[0]"
   ]
  },
  {
   "cell_type": "code",
   "execution_count": 17,
   "id": "3ac86219",
   "metadata": {},
   "outputs": [
    {
     "name": "stdout",
     "output_type": "stream",
     "text": [
      "Sample review (as integers):[1, 14, 22, 16, 43, 530, 973, 1622, 1385, 65, 458, 4468, 66, 3941, 4, 173, 36, 256, 5, 25, 100, 43, 838, 112, 50, 670, 2, 9, 35, 480, 284, 5, 150, 4, 172, 112, 167, 2, 336, 385, 39, 4, 172, 4536, 1111, 17, 546, 38, 13, 447, 4, 192, 50, 16, 6, 147, 2025, 19, 14, 22, 4, 1920, 4613, 469, 4, 22, 71, 87, 12, 16, 43, 530, 38, 76, 15, 13, 1247, 4, 22, 17, 515, 17, 12, 16, 626, 18, 2, 5, 62, 386, 12, 8, 316, 8, 106, 5, 4, 2223, 5244, 16, 480, 66, 3785, 33, 4, 130, 12, 16, 38, 619, 5, 25, 124, 51, 36, 135, 48, 25, 1415, 33, 6, 22, 12, 215, 28, 77, 52, 5, 14, 407, 16, 82, 2, 8, 4, 107, 117, 5952, 15, 256, 4, 2, 7, 3766, 5, 723, 36, 71, 43, 530, 476, 26, 400, 317, 46, 7, 4, 2, 1029, 13, 104, 88, 4, 381, 15, 297, 98, 32, 2071, 56, 26, 141, 6, 194, 7486, 18, 4, 226, 22, 21, 134, 476, 26, 480, 5, 144, 30, 5535, 18, 51, 36, 28, 224, 92, 25, 104, 4, 226, 65, 16, 38, 1334, 88, 12, 16, 283, 5, 16, 4472, 113, 103, 32, 15, 16, 5345, 19, 178, 32]\n",
      "Sample label:1\n"
     ]
    }
   ],
   "source": [
    "## Inspect a sample review and its label\n",
    "sample_review=X_train[0]\n",
    "sample_label=y_train[0]\n",
    "\n",
    "print(f'Sample review (as integers):{sample_review}')\n",
    "print(f'Sample label:{sample_label}')"
   ]
  },
  {
   "cell_type": "code",
   "execution_count": 18,
   "id": "3d738782",
   "metadata": {},
   "outputs": [],
   "source": [
    "### Mapping of word index back to words (for understanding)\n",
    "word_index=imdb.get_word_index()\n",
    "#word_index\n"
   ]
  },
  {
   "cell_type": "code",
   "execution_count": 19,
   "id": "fa8d4543",
   "metadata": {},
   "outputs": [],
   "source": [
    "### Reverse word index\n",
    "reverse_word_index={value: key for key,value in word_index.items()}\n",
    "#reverse_word_index"
   ]
  },
  {
   "cell_type": "code",
   "execution_count": 20,
   "id": "7e8a2b50",
   "metadata": {},
   "outputs": [],
   "source": [
    "### Decode Review\n",
    "decoded_review = ' '.join([reverse_word_index.get(i-3, '?') for i in sample_review])\n",
    "#decoded_review"
   ]
  },
  {
   "cell_type": "code",
   "execution_count": 21,
   "id": "b50e8cfd",
   "metadata": {},
   "outputs": [],
   "source": [
    "from tensorflow.keras.preprocessing import sequence\n",
    "\n",
    "max_len=500\n",
    "\n",
    "X_train=sequence.pad_sequences(X_train,maxlen=max_len)\n",
    "X_test=sequence.pad_sequences(X_test,maxlen=max_len)\n",
    "\n",
    "#X_train"
   ]
  },
  {
   "cell_type": "code",
   "execution_count": 22,
   "id": "a0248d86",
   "metadata": {},
   "outputs": [],
   "source": [
    "## Train Simple RNN\n",
    "\n",
    "model=Sequential()\n",
    "model.add(Embedding(max_features,128,input_length=max_len))  ## Embedding Layers\n",
    "model.add(SimpleRNN(128,activation='relu'))\n",
    "model.add(Dense(1,activation=\"sigmoid\"))\n",
    "#model.summary()"
   ]
  },
  {
   "cell_type": "code",
   "execution_count": 23,
   "id": "a03188ee",
   "metadata": {},
   "outputs": [],
   "source": [
    "model.compile(optimizer='adam',loss='binary_crossentropy',metrics=['accuracy'])"
   ]
  },
  {
   "cell_type": "code",
   "execution_count": null,
   "id": "33f6d2b9",
   "metadata": {},
   "outputs": [],
   "source": [
    "## Create an instance of EarlyStopping Callback\n",
    "\n",
    "from tensorflow.keras.callbacks import EarlyStopping\n",
    "earlystopping=EarlyStopping(monitor='val_loss', patience=5,restore_best_weights=True)"
   ]
  },
  {
   "cell_type": "code",
   "execution_count": null,
   "id": "21d413e3",
   "metadata": {},
   "outputs": [
    {
     "name": "stdout",
     "output_type": "stream",
     "text": [
      "Epoch 1/20\n",
      "625/625 [==============================] - 86s 136ms/step - loss: 40.9942 - accuracy: 0.6461 - val_loss: 0.4471 - val_accuracy: 0.7940\n",
      "Epoch 2/20\n",
      "625/625 [==============================] - 82s 131ms/step - loss: 0.3446 - accuracy: 0.8500 - val_loss: 0.3759 - val_accuracy: 0.8442\n",
      "Epoch 3/20\n",
      "625/625 [==============================] - 82s 131ms/step - loss: 0.2271 - accuracy: 0.9097 - val_loss: 0.3666 - val_accuracy: 0.8506\n",
      "Epoch 4/20\n",
      "625/625 [==============================] - 82s 131ms/step - loss: 0.1610 - accuracy: 0.9398 - val_loss: 0.4147 - val_accuracy: 0.8264\n",
      "Epoch 5/20\n",
      "625/625 [==============================] - 82s 131ms/step - loss: 0.1264 - accuracy: 0.9532 - val_loss: 0.4177 - val_accuracy: 0.8668\n",
      "Epoch 6/20\n",
      "625/625 [==============================] - 82s 131ms/step - loss: 0.1954 - accuracy: 0.9229 - val_loss: 0.4510 - val_accuracy: 0.8558\n",
      "Epoch 7/20\n",
      "625/625 [==============================] - 81s 130ms/step - loss: 0.1670 - accuracy: 0.9362 - val_loss: 0.4646 - val_accuracy: 0.8386\n",
      "Epoch 8/20\n",
      "625/625 [==============================] - 80s 129ms/step - loss: 0.0998 - accuracy: 0.9637 - val_loss: 0.5122 - val_accuracy: 0.8504\n",
      "Epoch 9/20\n",
      "625/625 [==============================] - 81s 129ms/step - loss: 0.0953 - accuracy: 0.9644 - val_loss: 0.5335 - val_accuracy: 0.8012\n",
      "Epoch 10/20\n",
      "625/625 [==============================] - 80s 128ms/step - loss: 0.0713 - accuracy: 0.9742 - val_loss: 0.6295 - val_accuracy: 0.8370\n",
      "Epoch 11/20\n",
      "625/625 [==============================] - 79s 127ms/step - loss: 0.0648 - accuracy: 0.9765 - val_loss: 0.5950 - val_accuracy: 0.8114\n",
      "Epoch 12/20\n",
      "625/625 [==============================] - 78s 124ms/step - loss: 0.0752 - accuracy: 0.9755 - val_loss: 0.6536 - val_accuracy: 0.8506\n",
      "Epoch 13/20\n",
      "625/625 [==============================] - 78s 124ms/step - loss: 0.1455 - accuracy: 0.9455 - val_loss: 0.6837 - val_accuracy: 0.8024\n"
     ]
    }
   ],
   "source": [
    "## Train the model with earlystopping\n",
    "\n",
    "history=model.fit(\n",
    "    X_train,y_train,epochs=10,batch_size=32,\n",
    "    validation_split=0.2,\n",
    "    callbacks=[earlystopping]\n",
    ")"
   ]
  },
  {
   "cell_type": "code",
   "execution_count": 26,
   "id": "665e98ab",
   "metadata": {},
   "outputs": [],
   "source": [
    "## Save model file\n",
    "model.save('simple_rnn_imdb.h5')"
   ]
  },
  {
   "cell_type": "code",
   "execution_count": null,
   "id": "cb16750a",
   "metadata": {},
   "outputs": [],
   "source": []
  },
  {
   "cell_type": "code",
   "execution_count": null,
   "id": "4d6245a6",
   "metadata": {},
   "outputs": [],
   "source": []
  },
  {
   "cell_type": "code",
   "execution_count": null,
   "id": "525c705b",
   "metadata": {},
   "outputs": [],
   "source": []
  },
  {
   "cell_type": "code",
   "execution_count": null,
   "id": "06b8ea0a",
   "metadata": {},
   "outputs": [],
   "source": []
  },
  {
   "cell_type": "code",
   "execution_count": null,
   "id": "6712dcad",
   "metadata": {},
   "outputs": [],
   "source": []
  },
  {
   "cell_type": "code",
   "execution_count": null,
   "id": "73e8409e",
   "metadata": {},
   "outputs": [],
   "source": []
  },
  {
   "cell_type": "code",
   "execution_count": null,
   "id": "7220bef9",
   "metadata": {},
   "outputs": [],
   "source": []
  },
  {
   "cell_type": "code",
   "execution_count": null,
   "id": "e5cfd254",
   "metadata": {},
   "outputs": [],
   "source": []
  }
 ],
 "metadata": {
  "kernelspec": {
   "display_name": "Python 3",
   "language": "python",
   "name": "python3"
  },
  "language_info": {
   "codemirror_mode": {
    "name": "ipython",
    "version": 3
   },
   "file_extension": ".py",
   "mimetype": "text/x-python",
   "name": "python",
   "nbconvert_exporter": "python",
   "pygments_lexer": "ipython3",
   "version": "3.11.0"
  }
 },
 "nbformat": 4,
 "nbformat_minor": 5
}
